{
 "cells": [
  {
   "cell_type": "code",
   "execution_count": 1,
   "metadata": {},
   "outputs": [],
   "source": [
    "#library imports\n",
    "import warnings\n",
    "\n",
    "import numpy as np\n",
    "import pandas as pd\n",
    "import matplotlib.pyplot as plt\n",
    "from sklearn.linear_model import LogisticRegression\n",
    "from sklearn.metrics import accuracy_score, confusion_matrix  # evaluation metrics\n",
    "\n",
    "from sklearn.datasets import fetch_openml \n",
    "from sklearn.model_selection import train_test_split\n",
    "from sklearn.preprocessing import StandardScaler\n",
    "from sklearn.decomposition import PCA\n",
    "from sklearn.preprocessing import MinMaxScaler"
   ]
  },
  {
   "cell_type": "code",
   "execution_count": 2,
   "metadata": {},
   "outputs": [
    {
     "name": "stdout",
     "output_type": "stream",
     "text": [
      "<class 'pandas.core.frame.DataFrame'>\n",
      "RangeIndex: 1202 entries, 0 to 1201\n",
      "Columns: 158 entries, matchID to T2_player4_Rating 1.0\n",
      "dtypes: float64(140), int64(2), object(16)\n",
      "memory usage: 1.4+ MB\n"
     ]
    },
    {
     "data": {
      "text/plain": [
       "(   matchID  team1   team2       map  team1_win T1_mapwinrate T2_mapwinrate  \\\n",
       " 0  2368924   Case    Hype   Ancient          1         76.9%          0.0%   \n",
       " 1  2368925    AJF  Evolve   Vertigo          1         66.7%          0.0%   \n",
       " 2  2368916  Space    IKLA    Anubis          1         27.3%         33.3%   \n",
       " 3  2368916  Space    IKLA  Overpass          0         20.0%         28.6%   \n",
       " 4  2368916  Space    IKLA    Mirage          0         41.7%         00.0%   \n",
       " \n",
       "    T1_player0_Total kills T1_player0_Headshot %  T1_player0_Total deaths  ...  \\\n",
       " 0                   234.0                 26.9%                    171.0  ...   \n",
       " 1                    42.0                 23.8%                     46.0  ...   \n",
       " 2                   159.0                 59.1%                    177.0  ...   \n",
       " 3                    67.0                 55.2%                     88.0  ...   \n",
       " 4                   166.0                 57.8%                    207.0  ...   \n",
       " \n",
       "   T1_player0_Rating 2.0  T2_player0_Rating 2.0  T2_player1_Rating 1.0  \\\n",
       " 0                  1.25                   1.06                    NaN   \n",
       " 1                  0.92                   1.32                    NaN   \n",
       " 2                  1.02                   0.96                    NaN   \n",
       " 3                  0.87                   0.96                    NaN   \n",
       " 4                  0.93                   1.33                    NaN   \n",
       " \n",
       "    Unnamed: 152  T1_player2_Rating 1.0  T1_player3_Rating 1.0  \\\n",
       " 0           NaN                    NaN                    NaN   \n",
       " 1           NaN                    NaN                    NaN   \n",
       " 2           NaN                    NaN                    NaN   \n",
       " 3           NaN                    NaN                    NaN   \n",
       " 4           NaN                    NaN                    NaN   \n",
       " \n",
       "    T1_player4_Rating 1.0  T2_player2_Rating 1.0  T2_player3_Rating 1.0  \\\n",
       " 0                    NaN                    NaN                    NaN   \n",
       " 1                    NaN                    NaN                    NaN   \n",
       " 2                    NaN                    NaN                    NaN   \n",
       " 3                    NaN                    NaN                    NaN   \n",
       " 4                    NaN                    NaN                    NaN   \n",
       " \n",
       "    T2_player4_Rating 1.0  \n",
       " 0                    NaN  \n",
       " 1                    NaN  \n",
       " 2                    NaN  \n",
       " 3                    NaN  \n",
       " 4                    NaN  \n",
       " \n",
       " [5 rows x 158 columns],\n",
       " None)"
      ]
     },
     "execution_count": 2,
     "metadata": {},
     "output_type": "execute_result"
    }
   ],
   "source": [
    "file_path = 'CS2_HLTV_MATCH_DATA.csv'\n",
    "data = pd.read_csv(file_path)\n",
    "\n",
    "# Display the first few rows of the dataset to get an overview\n",
    "data.head(), data.info()"
   ]
  },
  {
   "cell_type": "code",
   "execution_count": 3,
   "metadata": {},
   "outputs": [
    {
     "data": {
      "text/plain": [
       "(['T1_player0_Rating 1.0',\n",
       "  'T1_player1_Rating 1.0',\n",
       "  'T2_player0_Rating 1.0',\n",
       "  'T2_player1_Rating 1.0',\n",
       "  'Unnamed: 152',\n",
       "  'T1_player2_Rating 1.0',\n",
       "  'T1_player3_Rating 1.0',\n",
       "  'T1_player4_Rating 1.0',\n",
       "  'T2_player2_Rating 1.0',\n",
       "  'T2_player3_Rating 1.0',\n",
       "  'T2_player4_Rating 1.0'],\n",
       " (1202, 147))"
      ]
     },
     "execution_count": 3,
     "metadata": {},
     "output_type": "execute_result"
    }
   ],
   "source": [
    "# Check for columns that are either completely empty or have a high proportion of missing values.\n",
    "# Any column that has more than 90% missing values can be considered faulty or empty.\n",
    "\n",
    "# Calculating the percentage of missing values in each column\n",
    "missing_percentage = data.isnull().mean() * 100\n",
    "\n",
    "# Identifying columns that have more than 90% missing values\n",
    "faulty_columns = missing_percentage[missing_percentage > 90].index.tolist()\n",
    "\n",
    "# Dropping these faulty columns from the dataset\n",
    "cleaned_data = data.drop(columns=faulty_columns)\n",
    "\n",
    "# Display the list of dropped columns and the shape of the cleaned dataset\n",
    "dropped_columns = faulty_columns\n",
    "cleaned_data_shape = cleaned_data.shape\n",
    "\n",
    "dropped_columns, cleaned_data_shape"
   ]
  },
  {
   "cell_type": "code",
   "execution_count": 4,
   "metadata": {},
   "outputs": [
    {
     "data": {
      "text/plain": [
       "((1202, 143),\n",
       " ['team1_win',\n",
       "  'T1_mapwinrate',\n",
       "  'T2_mapwinrate',\n",
       "  'T1_player0_Total kills',\n",
       "  'T1_player0_Headshot %',\n",
       "  'T1_player0_Total deaths',\n",
       "  'T1_player0_K/D Ratio',\n",
       "  'T1_player0_Damage / Round',\n",
       "  'T1_player0_Grenade dmg / Round',\n",
       "  'T1_player0_Maps played'])"
      ]
     },
     "execution_count": 4,
     "metadata": {},
     "output_type": "execute_result"
    }
   ],
   "source": [
    "# Dropping irrelevant columns such as team names and map name\n",
    "columns_to_drop = ['team1', 'team2', 'map','matchID']\n",
    "\n",
    "# Dropping the columns\n",
    "cleaned_data = cleaned_data.drop(columns=columns_to_drop)\n",
    "\n",
    "\n",
    "# Now we will proceed with converting the map win rates from percentage strings to numeric values.\n",
    "# Removing the '%' and converting to float\n",
    "cleaned_data['T1_mapwinrate'] = cleaned_data['T1_mapwinrate'].str.rstrip('%').astype('float') / 100\n",
    "cleaned_data['T2_mapwinrate'] = cleaned_data['T2_mapwinrate'].str.rstrip('%').astype('float') / 100\n",
    "\n",
    "# Let's check if the conversion is successful and inspect the first few rows of these columns\n",
    "cleaned_data[['T1_mapwinrate', 'T2_mapwinrate']].head()\n",
    "remaining_columns = cleaned_data.columns.tolist()\n",
    "cleaned_data.shape, remaining_columns[:10]  # Show the shape and first 10 remaining columns as a sample\n"
   ]
  },
  {
   "cell_type": "code",
   "execution_count": 6,
   "metadata": {},
   "outputs": [
    {
     "data": {
      "text/plain": [
       "'cleaned_preprocessed.csv'"
      ]
     },
     "execution_count": 6,
     "metadata": {},
     "output_type": "execute_result"
    }
   ],
   "source": [
    "\n",
    "# Export the cleaned data to a new CSV file for the user to review\n",
    "export_file_path = 'cleaned_preprocessed.csv'\n",
    "cleaned_data.to_csv(export_file_path, index=False)\n",
    "\n",
    "# Provide the file path for the user to download\n",
    "export_file_path\n"
   ]
  }
 ],
 "metadata": {
  "kernelspec": {
   "display_name": "Python 3",
   "language": "python",
   "name": "python3"
  },
  "language_info": {
   "codemirror_mode": {
    "name": "ipython",
    "version": 3
   },
   "file_extension": ".py",
   "mimetype": "text/x-python",
   "name": "python",
   "nbconvert_exporter": "python",
   "pygments_lexer": "ipython3",
   "version": "3.12.3"
  }
 },
 "nbformat": 4,
 "nbformat_minor": 2
}
